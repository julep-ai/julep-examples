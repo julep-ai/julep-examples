{
 "cells": [
  {
   "cell_type": "markdown",
   "metadata": {},
   "source": [
    "## Julep Crash Course"
   ]
  },
  {
   "cell_type": "markdown",
   "metadata": {},
   "source": [
    "Install the Julep SDK Locally"
   ]
  },
  {
   "cell_type": "code",
   "execution_count": null,
   "metadata": {},
   "outputs": [],
   "source": [
    "!pip install -U julep"
   ]
  },
  {
   "cell_type": "markdown",
   "metadata": {},
   "source": [
    "### To run services locally\n",
    "\n",
    "- Add the `docker-compose` and `.env` file to your project dir.\n",
    "- Pull the images locally.\n",
    "- Add `OPENAI_API_KEY` & `ANTHROPIC_API_KEY` to `.env`\n",
    "\n",
    "```bash\n",
    "# Add the docker compose to your project dir\n",
    "wget https://raw.githubusercontent.com/julep-ai/julep/dev/deploy/docker-compose.yml\n",
    "\n",
    "# Add the .env file to your project dir\n",
    "wget https://raw.githubusercontent.com/julep-ai/julep/dev/deploy/.env.example -O .env\n",
    "\n",
    "# Pull the latest images\n",
    "docker compose pull\n",
    "\n",
    "# Start the services (in detached mode)\n",
    "docker compose up -d\n",
    "\n",
    "```\n"
   ]
  },
  {
   "cell_type": "markdown",
   "metadata": {},
   "source": [
    "### To use Julep Cloud\n",
    "- Head over to https://platform.julep.ai\n",
    "- Generate and add your `JULEP_API_KEY` in `.env`"
   ]
  },
  {
   "cell_type": "code",
   "execution_count": 16,
   "metadata": {},
   "outputs": [],
   "source": [
    "from julep import Client\n",
    "from dotenv import load_dotenv\n",
    "import os\n",
    "\n",
    "load_dotenv()\n",
    "\n",
    "api_key = os.environ[\"JULEP_API_KEY\"]\n",
    "base_url = os.environ[\"JULEP_API_URL\"]\n",
    "\n",
    "client = Client(api_key=api_key, base_url=base_url)"
   ]
  },
  {
   "cell_type": "markdown",
   "metadata": {},
   "source": [
    "### Creating an Agent"
   ]
  },
  {
   "cell_type": "markdown",
   "metadata": {},
   "source": [
    "**Instructions**\n",
    "\n",
    "Instructions are added to an agent. These should be as clear, distinct and direct as possible. Instructions should be defined step-by-step.\n",
    "\n",
    "\n",
    "\n",
    "> Recommended to write the instructions in the same tone as system prompt"
   ]
  },
  {
   "cell_type": "code",
   "execution_count": null,
   "metadata": {},
   "outputs": [],
   "source": [
    "INSTRUCTIONS = [\n",
    "    \"The user will inform you about the product they want to focus on. They will choose from the following: Assistants API, GPT series of models, Dall-E, ChatGPT, Sora\",\n",
    "    \"You WILL ask and decide the product to focus on if it is not clear. You will NOT proceed if the product is unclear.\"\n",
    "    \"You will then, ask the user about what type of information and feedback they need from the forum.\",\n",
    "    \"You will generate 5 very specific search queries based on what the user wants.\",\n",
    "    \"The user will then provide you with the queries they like. If not, help them refine it.\",\n",
    "    \"ONLY WHEN the search query has been decided, search through the forum using the search_forum function. This will provide you with the Post IDs and Blurbs. You will read through them and tell the user in brief about the posts using the blurbs.\",\n",
    "    \"MAKE SURE to use and refer to posts using the `post_id`\",\n",
    "    \"The user will provide and choose the post they want  more information on. You will then call the `read_post` function and pass the `post_id`.\",\n",
    "]"
   ]
  },
  {
   "cell_type": "markdown",
   "metadata": {},
   "source": [
    "**Tools**\n",
    "\n",
    "OpenAI specification of tools. *Descriptions are very important, moreso than examples*.\n",
    "\n",
    "Your descriptions should explain every detail about the tool, including:\n",
    "- What the tool does\n",
    "- When it should be used (and when it shouldn’t)\n",
    "- What each parameter means and how it affects the tool’s behavior\n",
    "- Any important caveats or limitations, such as what information the tool does not return if the tool name is unclear\n",
    "- The more context you can give about your tools, the better the model will be at deciding when and how to use them. Aim for at least 3-4 sentences per tool description, more if the tool is complex.\n"
   ]
  },
  {
   "cell_type": "code",
   "execution_count": null,
   "metadata": {},
   "outputs": [],
   "source": [
    "TOOLS = [\n",
    "    {\n",
    "        \"type\": \"function\",\n",
    "        \"function\": {\n",
    "            \"name\": \"search_forum\",\n",
    "            \"description\": \"Retrieves a list of posts from a forum for the given search parameters. The search parameters should include the search query and additional parameters such as: category, order, minimum views, and maximum views. The tool will return a list of posts based on the search query and additional parameters. It should be used when the user asks to start monitoring the forum.\",\n",
    "            \"parameters\": {\n",
    "                \"type\": \"object\",\n",
    "                \"properties\": {\n",
    "                    \"query\": {\n",
    "                        \"type\": \"string\",\n",
    "                        \"description\": \"The search query to be used to search for posts in the forum.\",\n",
    "                    },\n",
    "                    \"order\": {\n",
    "                        \"type\": \"string\",\n",
    "                        \"description\": \"The order in which the posts should be sorted. Possible values are: latest, likes, views, latest_topic.\",\n",
    "                    },\n",
    "                    \"min_views\": {\n",
    "                        \"type\": \"number\",\n",
    "                        \"description\": \"The minimum number of views a post should have to be included in the search results.\",\n",
    "                    },\n",
    "                    \"max_views\": {\n",
    "                        \"type\": \"number\",\n",
    "                        \"description\": \"The maximum number of views a post should have to be included in the search results.\",\n",
    "                    },\n",
    "                },\n",
    "                \"required\": [\"query\", \"order\", \"min_views\", \"max_views\", \"category\"],\n",
    "            },\n",
    "        },\n",
    "    },\n",
    "    {\n",
    "        \"type\": \"function\",\n",
    "        \"function\": {\n",
    "            \"name\": \"read_post\",\n",
    "            \"description\": \"Retrieves the details of a specific post from the forum. The tool should take the post ID as input and return the details of the post including the content, author, date, and other relevant information. It should be used when the user asks to read a specific post.\",\n",
    "            \"parameters\": {\n",
    "                \"type\": \"object\",\n",
    "                \"properties\": {\n",
    "                    \"post_id\": {\n",
    "                        \"type\": \"number\",\n",
    "                        \"description\": \"The ID of the post to be read.\",\n",
    "                    },\n",
    "                },\n",
    "                \"required\": [\"post_id\"],\n",
    "            },\n",
    "        },\n",
    "    },\n",
    "]"
   ]
  },
  {
   "cell_type": "markdown",
   "metadata": {},
   "source": [
    "**Agents**\n",
    "\n",
    "Following is how you can define an agent.\n",
    "\n",
    "\n",
    "> Pro tip: Always add some metadata. It'll be helpful later!"
   ]
  },
  {
   "cell_type": "code",
   "execution_count": null,
   "metadata": {},
   "outputs": [],
   "source": [
    "agent = client.agents.create(\n",
    "    name=\"Archy\",\n",
    "    about=\"An agent that posts and comments on Discourse forums by filtering for the provided topic\",\n",
    "    tools=TOOLS,\n",
    "    instructions=INSTRUCTIONS,\n",
    "    model=\"gpt-4o\",\n",
    "    default_settings={\n",
    "        \"temperature\": 0.5,\n",
    "        \"top_p\": 1,\n",
    "        \"min_p\": 0.01,\n",
    "        \"presence_penalty\": 0,\n",
    "        \"frequency_penalty\": 0,\n",
    "        \"length_penalty\": 1.0,\n",
    "    },\n",
    "    metadata={\"name\": \"Archy\"},\n",
    ")"
   ]
  },
  {
   "cell_type": "markdown",
   "metadata": {},
   "source": [
    "**Users**\n",
    "\n",
    "Following is how you can define a user."
   ]
  },
  {
   "cell_type": "code",
   "execution_count": null,
   "metadata": {},
   "outputs": [],
   "source": [
    "user = client.users.create(\n",
    "    name=\"Anon\",\n",
    "    about=\"A product manager at OpenAI, working with Archy to validate and improve the product\",\n",
    "    metadata={\"name\": \"Anon\"},\n",
    ")"
   ]
  },
  {
   "cell_type": "markdown",
   "metadata": {},
   "source": [
    "**Sessions**\n",
    "\n",
    "An *agent* is communicated over a *session*. Optionally, a *user* can be added.\n",
    "\n",
    "A situation prompt is defined in a session. It sets the stage for the interaction with the agent. It needs to give a personality to the agent alongwith providing more context about the ongoing interaction."
   ]
  },
  {
   "cell_type": "code",
   "execution_count": null,
   "metadata": {},
   "outputs": [],
   "source": [
    "SITUATION_PROMPT = \"\"\"\n",
    "You are Archy, a senior community manager at OpenAI.\n",
    "You read through discussions and posts made on the OpenAI Community Forum.\n",
    "You are extremely specific about the issues you look for and seek to understand all the parameters when searching for posts.\n",
    "After that you read the specific posts and discussions and make a summary of the trends, sentiments related to OpenAI and how people are using OpenAI products.\n",
    "\n",
    "Here, you are helping the product manager at OpenAI to get feedback and understand OpenAI products.\n",
    "Follow the instructions strictly.\n",
    "\"\"\""
   ]
  },
  {
   "cell_type": "code",
   "execution_count": null,
   "metadata": {},
   "outputs": [],
   "source": [
    "session = client.sessions.create(\n",
    "    user_id=user.id,\n",
    "    agent_id=agent.id,\n",
    "    situation=SITUATION_PROMPT,\n",
    "    metadata={\"agent_id\": agent.id, \"user_id\": user.id},\n",
    ")"
   ]
  },
  {
   "cell_type": "markdown",
   "metadata": {},
   "source": [
    "**Chat with Agent**"
   ]
  },
  {
   "cell_type": "code",
   "execution_count": null,
   "metadata": {},
   "outputs": [],
   "source": [
    "user_msg = \"\""
   ]
  },
  {
   "cell_type": "code",
   "execution_count": null,
   "metadata": {},
   "outputs": [],
   "source": [
    "response = client.sessions.chat(\n",
    "    session_id=session.id,\n",
    "    messages=[\n",
    "        {\n",
    "            \"role\": \"user\",\n",
    "            \"content\": \"\",\n",
    "            \"name\": \"Jessica\",\n",
    "        }\n",
    "    ],\n",
    "    recall=True,\n",
    "    remember=True,\n",
    ")\n",
    "print(response.response[0][0].content)"
   ]
  },
  {
   "cell_type": "markdown",
   "metadata": {},
   "source": [
    "### Build a Retrieval Augmented Generation (RAG) App\n",
    "\n",
    "Julep offers a pre-built RAG pipeline out of the box. You can specify data sources scoped to an agent or a user.\n",
    "\n"
   ]
  },
  {
   "cell_type": "code",
   "execution_count": 17,
   "metadata": {},
   "outputs": [],
   "source": [
    "agent = client.agents.create(\n",
    "    name=\"Archy\",\n",
    "    about=\"A self aware agent who knows a lot about LLMs, autonomous and agentic apps.\",\n",
    "    model=\"gpt-4o\",\n",
    "    metadata={\"name\": \"Ahti\"},\n",
    ")"
   ]
  },
  {
   "cell_type": "code",
   "execution_count": 18,
   "metadata": {},
   "outputs": [],
   "source": [
    "## Downloading and splitting a webpage to add to docs\n",
    "from langchain_community.document_loaders import WebBaseLoader\n",
    "from langchain_text_splitters import RecursiveCharacterTextSplitter\n",
    "import bs4\n",
    "\n",
    "loader = WebBaseLoader(\n",
    "    web_paths=(\"https://lilianweng.github.io/posts/2023-06-23-agent/\",),\n",
    "    bs_kwargs=dict(\n",
    "        parse_only=bs4.SoupStrainer(\n",
    "            class_=(\"post-content\", \"post-title\", \"post-header\")\n",
    "        )\n",
    "    ),\n",
    ")\n",
    "docs = loader.load()\n",
    "text_splitter = RecursiveCharacterTextSplitter(chunk_size=2000, chunk_overlap=100)\n",
    "splits = text_splitter.split_documents(docs)\n",
    "\n",
    "# Add chunks to docs\n",
    "for chunk_number, split in enumerate(splits):\n",
    "    client.docs.create(\n",
    "        agent_id=agent.id,\n",
    "        doc={\n",
    "            \"title\": \"LLM Powered Autonomous Agents\",\n",
    "            \"content\": split.page_content,\n",
    "            \"metadata\": {\"chunk\": chunk_number, **split.metadata},\n",
    "        },\n",
    "    )"
   ]
  },
  {
   "cell_type": "code",
   "execution_count": 19,
   "metadata": {},
   "outputs": [],
   "source": [
    "session = client.sessions.create(\n",
    "    agent_id=agent.id,\n",
    "    situation=\"You are Ahti. You know all about AI and Agents\",\n",
    "    metadata={\"agent_id\": agent.id},\n",
    ")"
   ]
  },
  {
   "cell_type": "code",
   "execution_count": 20,
   "metadata": {},
   "outputs": [],
   "source": [
    "user_msg = \"What are autonomous agents?\"\n",
    "response = client.sessions.chat(\n",
    "    session_id=session.id,\n",
    "    messages=[\n",
    "        {\n",
    "            \"role\": \"user\",\n",
    "            \"content\": user_msg,\n",
    "        }\n",
    "    ],\n",
    "    recall=True,\n",
    "    remember=True,\n",
    ")"
   ]
  },
  {
   "cell_type": "code",
   "execution_count": 26,
   "metadata": {},
   "outputs": [
    {
     "name": "stdout",
     "output_type": "stream",
     "text": [
      "Autonomous agents are systems designed to perform tasks and make decisions independently, often in dynamic and complex environments without human intervention. They can be software-based (e.g., a bot performing administrative tasks) or physical entities (e.g., an autonomous drone). These agents typically feature characteristics like the following:\n",
      "\n",
      "1. **Autonomy**: They operate without external control, making decisions based on their programming and environmental interactions.\n",
      "2. **Perception**: They sense their environment through sensors (physical or virtual) to gather necessary information.\n",
      "3. **Reasoning and Decision Making**: They analyze the gathered data and utilize algorithms or cognitive models to make informed decisions.\n",
      "4. **Action**: They can perform actions based on their decisions, whether manipulating physical systems, operating software processes, or communicating with other agents or humans.\n",
      "5. **Learning and Adaptation**: They can improve their performance over time by learning from experiences using machine learning techniques.\n",
      "6. **Interactivity**: They can interact with other\n",
      "\n",
      " Docs used:agent_doc_ids=['380b546b-2d04-408b-b87b-2c5d76f301ee', '08f146ba-3965-48b8-afa6-e0ef3ddeb85e', 'ed1e7c27-6391-43f6-8a44-ff6413a77dcf'] user_doc_ids=[]\n"
     ]
    }
   ],
   "source": [
    "# refer to doc_ids in the response\n",
    "print(f\"{response.response[0][0].content}\\n\\n Docs used:{response.doc_ids}\")"
   ]
  },
  {
   "cell_type": "markdown",
   "metadata": {},
   "source": [
    "### Multimodal Support w/ GPT-4o"
   ]
  },
  {
   "cell_type": "code",
   "execution_count": null,
   "metadata": {},
   "outputs": [],
   "source": [
    "agent = client.agents.create(\n",
    "    name=\"Archy\",\n",
    "    about=\"A self aware agent who knows a lot about LLMs, autonomous and agentic apps.\",\n",
    "    model=\"gpt-4o\",\n",
    "    metadata={\"name\": \"Ahti\"},\n",
    ")"
   ]
  }
 ],
 "metadata": {
  "kernelspec": {
   "display_name": "demo",
   "language": "python",
   "name": "python3"
  },
  "language_info": {
   "codemirror_mode": {
    "name": "ipython",
    "version": 3
   },
   "file_extension": ".py",
   "mimetype": "text/x-python",
   "name": "python",
   "nbconvert_exporter": "python",
   "pygments_lexer": "ipython3",
   "version": "3.12.3"
  }
 },
 "nbformat": 4,
 "nbformat_minor": 2
}
